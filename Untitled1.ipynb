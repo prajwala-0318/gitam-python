{
 "cells": [
  {
   "cell_type": "code",
   "execution_count": 18,
   "metadata": {},
   "outputs": [
    {
     "ename": "IndentationError",
     "evalue": "unindent does not match any outer indentation level (<tokenize>, line 9)",
     "output_type": "error",
     "traceback": [
      "\u001b[0;36m  File \u001b[0;32m\"<tokenize>\"\u001b[0;36m, line \u001b[0;32m9\u001b[0m\n\u001b[0;31m    isprime(11)\u001b[0m\n\u001b[0m    ^\u001b[0m\n\u001b[0;31mIndentationError\u001b[0m\u001b[0;31m:\u001b[0m unindent does not match any outer indentation level\n"
     ]
    }
   ],
   "source": [
    "# Given number is prime number or not\n",
    "def isprime(n):\n",
    "    flag = True\n",
    "    for i in range(2,n//2+1):\n",
    "        if n % i ==0:\n",
    "            flag = False\n",
    "            return flag\n",
    "    return flag\n",
    " isprime(11)\n",
    "            \n",
    "    \n"
   ]
  },
  {
   "cell_type": "code",
   "execution_count": 8,
   "metadata": {},
   "outputs": [],
   "source": [
    "#given number is prime number or not\n",
    "def isprime(n):\n",
    "    flag = True\n",
    "    for i in range(2,n//2+1):\n",
    "        if n % i ==0:\n",
    "            flag = false\n",
    "            return flag\n",
    "        return flag\n",
    "    isprime(7)\n",
    "    "
   ]
  },
  {
   "cell_type": "code",
   "execution_count": 25,
   "metadata": {},
   "outputs": [
    {
     "data": {
      "text/plain": [
       "4"
      ]
     },
     "execution_count": 25,
     "metadata": {},
     "output_type": "execute_result"
    }
   ],
   "source": [
    "# function to find prime numbers count from 1 to N\n",
    "# 10 -- 4(2,3,5,7)\n",
    "def primecount(n):\n",
    "    cnt = 0\n",
    "    for a in range(2,n+1):\n",
    "        k = 0\n",
    "        for i in range(2,a//2+1):\n",
    "            if a % i == 0:\n",
    "                 k = k +1\n",
    "        if(k<=0):\n",
    "            cnt=cnt+1\n",
    "    return cnt\n",
    "primecount(10)"
   ]
  },
  {
   "cell_type": "code",
   "execution_count": null,
   "metadata": {},
   "outputs": [],
   "source": [
    "# individual digit factorial sum is same as original number\n",
    "# Example :-\n",
    "# 145 -- yes (5! + 41 + 1! =145)\n",
    "# 123 -- No (3! + 2! + 1! = 9)\n",
    "def factorial(n):\n",
    "    fact = 1\n",
    "    for i in range(2,n+1):\n",
    "        fact *=i\n",
    "    return fact\n",
    "def digitFactsum(n):\n",
    "    sum = 0\n",
    "    buffer = n\n",
    "    while n != 0:\n",
    "        r = n % 10 \n",
    "        sum += factorial(r) \n",
    "        n = n // 10\n",
    "    if sum == buffer:\n",
    "        return \"Yes\"\n",
    "    else:\n",
    "        return \"No\"\n",
    "    return\n",
    "print(digitFactsum(145)) \n",
    "print(digitFactsum(123))\n",
    "    "
   ]
  },
  {
   "cell_type": "code",
   "execution_count": null,
   "metadata": {},
   "outputs": [],
   "source": [
    "# function to return the count of palindrome number\n",
    "# input : 1 10\n",
    "# output : 9(1,2,3,4,5,6,7,8,9)\n",
    "# input : 11 100\n",
    "# output : 9(11,22,33,.......,99)\n",
    "def ispalindrome(n):\n",
    "    rev = 0\n",
    "    buffer = n\n",
    "    while n! = 0:\n",
    "        r = n % 10\n",
    "        rev = rev * 10 + r\n",
    "        n = n // 10\n",
    "        if rev == buffer:\n",
    "            return True\n",
    "        else:\n",
    "            return False\n",
    "        return\n",
    "def countpalindrome(lb,ub):\n",
    "        cnt = 0:\n",
    "            while lb != ub:\n",
    "                #implement\n",
    "                if ispalindrome(lb)==True:\n",
    "                    cnt = cnt + 1\n",
    "                    lb = lb + 1\n",
    "                    return cnt\n",
    "countpalindrome(1,10)\n",
    "        "
   ]
  },
  {
   "cell_type": "code",
   "execution_count": null,
   "metadata": {},
   "outputs": [],
   "source": [
    "   # function to return the sum of digits in a given string\n",
    "    # example:-\n",
    "    # input : applicat8ion89\n",
    "    # output : 26(1 + 8 + 8 + 9)\n",
    "    def sumofdigits(str):\n",
    "        sum = 0\n",
    "        for X in range(len(str)):\n",
    "            if ord(str[x]) >= 48 and ord(str[x]) <=57:\n",
    "                sum = sum + (ord(str[x])-48)\n",
    "                return sum\n",
    "            sumofdigits('applicat8ion89')"
   ]
  },
  {
   "cell_type": "code",
   "execution_count": null,
   "metadata": {},
   "outputs": [],
   "source": [
    "# function to print the specific word in upper case\n",
    "# example :-\n",
    "# input : python mode easy\n",
    "# output : MADE\n",
    "# Input : Learn Python Programming\n",
    "# output : PYTHON\n",
    "def worduppercase(s):\n",
    "    spacecnt = 0\n",
    "    for x in range(len(s)):\n",
    "        if s[x] == 32:\n",
    "            spacecnt += 1 # spacent = spacecnt + 1\n",
    "            if spacecnt == 1:\n",
    "                if ord(s[x]) >= 65 and ord(s[x]) <= 90:\n",
    "                    print(s[x],end=\"\")\n",
    "                elif ord (s[x]) >= 97 and ord(s[x]) <= 122\n",
    "                     print(chr(ord(s[x]-32),end=\"\")\n",
    "            if spacecnt == 2:\n",
    "                break\n",
    "          return\n",
    "       worduppercase('python made easy') # MADE                    "
   ]
  },
  {
   "cell_type": "code",
   "execution_count": null,
   "metadata": {},
   "outputs": [],
   "source": []
  }
 ],
 "metadata": {
  "kernelspec": {
   "display_name": "Python 3",
   "language": "python",
   "name": "python3"
  },
  "language_info": {
   "codemirror_mode": {
    "name": "ipython",
    "version": 3
   },
   "file_extension": ".py",
   "mimetype": "text/x-python",
   "name": "python",
   "nbconvert_exporter": "python",
   "pygments_lexer": "ipython3",
   "version": "3.7.3"
  }
 },
 "nbformat": 4,
 "nbformat_minor": 2
}
